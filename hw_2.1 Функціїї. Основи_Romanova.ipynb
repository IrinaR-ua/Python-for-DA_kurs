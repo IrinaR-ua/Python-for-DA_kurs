{
 "cells": [
  {
   "cell_type": "markdown",
   "metadata": {
    "id": "QtHabST6Ez_n"
   },
   "source": [
    "# Домашнє завдання до теми \"Functions\""
   ]
  },
  {
   "cell_type": "markdown",
   "metadata": {
    "id": "6pg_NzFq5_kO"
   },
   "source": [
    "1. Напишіть фукнцію `print_message`, яка виводить на екран \"Я програмую на Python💪\" і викличіть цю фукнцію 5 разів (найкраще це зробити в циклі).\n",
    "\n",
    "  **Увага**: фукнція має робити чітко лише зазначений функціонал. Наявність додаткового функціоналу і аргументів, які не потрібні для виконання безпосередньо завдання, буде вважатись помилкою."
   ]
  },
  {
   "cell_type": "code",
   "execution_count": 17,
   "metadata": {
    "id": "RbXsfwI_D8ql"
   },
   "outputs": [
    {
     "name": "stdout",
     "output_type": "stream",
     "text": [
      "Я программую на Python💪\n",
      "Я программую на Python💪\n",
      "Я программую на Python💪\n",
      "Я программую на Python💪\n",
      "Я программую на Python💪\n"
     ]
    }
   ],
   "source": [
    "def print_message():\n",
    "    print(\"Я программую на Python💪\")\n",
    "for х in range(5):\n",
    "    print_message()"
   ]
  },
  {
   "cell_type": "markdown",
   "metadata": {
    "id": "oyRpWRXWBL9N"
   },
   "source": [
    "2. Напишіть функцію `calculation` яка приймає на вхід 4 аргументи типу int - `a`, `b`, `c`, `d` і вертає результат обчислення такої формули: $ (a + b - c) * d $.\n",
    "\n",
    "  Викличте функцію на наступному наборі аргументів і виведіть результат на екран:\n",
    "  ```\n",
    "  a = 16\n",
    "  b = 4\n",
    "  c = 9\n",
    "  d = 3\n",
    "  ```"
   ]
  },
  {
   "cell_type": "code",
   "execution_count": 19,
   "metadata": {
    "id": "Ggt2tx6kD-LS"
   },
   "outputs": [
    {
     "data": {
      "text/plain": [
       "33"
      ]
     },
     "execution_count": 19,
     "metadata": {},
     "output_type": "execute_result"
    }
   ],
   "source": [
    "def calculation(a: int, b: int, c: int, d: int) -> int:\n",
    "    return (a + b - c) * d\n",
    "calculation(16, 4, 9, 3)"
   ]
  },
  {
   "cell_type": "markdown",
   "metadata": {
    "id": "5hf1CbllDU_t"
   },
   "source": [
    "3. Напишіть функцію, яка додає до аргумента 15 і вертає результат додавання. Викличте функцію, передаючи в якості аргументів кожну з наступних змінних по черзі, і виведіть кожного разу результат на екран.\n",
    "```\n",
    "x = 9\n",
    "y = 14\n",
    "z = -19\n",
    "```"
   ]
  },
  {
   "cell_type": "code",
   "execution_count": 26,
   "metadata": {
    "id": "GvEs_nUtD_Cd"
   },
   "outputs": [
    {
     "name": "stdout",
     "output_type": "stream",
     "text": [
      "('Сума s + 15 = ', 24)\n",
      "('Сума s + 15 = ', 29)\n",
      "('Сума s + 15 = ', -4)\n"
     ]
    }
   ],
   "source": [
    "def this_summ():\n",
    "    return \"Сума s + 15 = \", s + 15\n",
    "for s in (x, y, z):\n",
    "    print(this_summ())\n",
    "x = 9\n",
    "y = 14\n",
    "z = -19"
   ]
  },
  {
   "cell_type": "markdown",
   "metadata": {
    "id": "bUuVBhie53uK"
   },
   "source": [
    "4. Напишіть функцію `multipy_numbers`, яка приймає два числа як аргументи і повертає їх добуток.\n",
    "\n",
    "  Викличіть функцію `multipy_numbers` на парах чисел\n",
    "    - 10 і 2\n",
    "    - 7 і 8\n",
    "    - 1024 і 999.\n",
    "  \n",
    "  Виведіть результат кожного виклику.\n",
    "  При виконанні цього завдання з використанням циклу - отримаєте 2х балів за нього :)"
   ]
  },
  {
   "cell_type": "code",
   "execution_count": 96,
   "metadata": {
    "id": "cDqrgZ4YEAKj"
   },
   "outputs": [
    {
     "name": "stdout",
     "output_type": "stream",
     "text": [
      "('Добуток дорівнює ', 20)\n",
      "('Добуток дорівнює ', 56)\n",
      "('Добуток дорівнює ', 1022976)\n"
     ]
    }
   ],
   "source": [
    "def multipy_numbers():\n",
    "    return \"Добуток дорівнює \", a1 * a2\n",
    "for a1, a2 in my_paar:\n",
    "    print(multipy_numbers())"
   ]
  },
  {
   "cell_type": "code",
   "execution_count": 95,
   "metadata": {
    "id": "cDqrgZ4YEAKj"
   },
   "outputs": [],
   "source": [
    "my_paar = [(10, 2), (7, 8), (1024, 999)]\n"
   ]
  },
  {
   "cell_type": "markdown",
   "metadata": {
    "id": "I03t46k27dDZ"
   },
   "source": [
    "5. **Ділення з перевіркою типів.**  \n",
    "\n",
    "  1. Напишіть функцію `int_division` яка приймає на вхід два аргументи типу `int` - `a` і `b`, і виконує ділення першого аргумента на другий: `a/b`. При цьому функція перед діленням перевіряє, чи другий аргумент не дорівнює 0. Якщо другий аргумент не 0, фукнція вертає результат ділення, інакше - замість виконання ділення, вертає повідомлення на екран \"Не можу виконати ділення на 0\".\n",
    "\n",
    "    Якщо типи, надані у функцію, не `int` - функція виводить повідомлення \"Не працюю з такими типами даних.\".\n",
    "\n",
    "  2. Запустіть функцію на наступних парах чисел:\n",
    "  - 12 і 6\n",
    "  - 20 і 0\n",
    "  - 112 і 10\n",
    "  - 99 і 0\n",
    "  - 11 i 1.1\n",
    "\n",
    "    і виведіть на екран повідомлення \"Результат роботи функції: \" - і далі те, що повернула функція.\n",
    "\n",
    "  3. Дайте відповідь на питання: \"Чому в деяких випадках функція повернула None?\""
   ]
  },
  {
   "cell_type": "code",
   "execution_count": null,
   "metadata": {},
   "outputs": [],
   "source": []
  },
  {
   "cell_type": "code",
   "execution_count": 142,
   "metadata": {
    "id": "1-EQhxrAEEAb"
   },
   "outputs": [],
   "source": [
    "# Версія 1. (не полная)\n",
    "    \n",
    "#def int_division (a: int, b: int) -> int:\n",
    "#    assert type(a) == int and type(b) == int\n",
    "#    assert b!= 0\n",
    "#    return \"Результат роботи функції: \", a / b\n",
    "    \n",
    "#if isinstance(a, int) and isinstance(b, int):\n",
    "#    if b!= 0:\n",
    "#        print(int_division(a, b))\n",
    "#    elif b == 0:\n",
    "#        print(\"Не можу виконати ділення на 0\")\n",
    "#else:\n",
    "#    print(\"Не працюю з такими типами данимх.\")\n",
    "\n",
    "# ('Результат роботи функції: ', 2.0)\n",
    "# ('Результат роботи функції: ', 11.2)\n",
    "#   AssertionError:    ----> 2     assert type(a) == int and type(b) == int\n",
    "#    ......."
   ]
  },
  {
   "cell_type": "code",
   "execution_count": null,
   "metadata": {},
   "outputs": [],
   "source": [
    "# my_pairs = [(12, 6), (20, 0), (112, 10), (99, 0), (11, 1.10)]"
   ]
  },
  {
   "cell_type": "code",
   "execution_count": null,
   "metadata": {},
   "outputs": [],
   "source": []
  },
  {
   "cell_type": "code",
   "execution_count": 228,
   "metadata": {},
   "outputs": [],
   "source": [
    "def int_division(a: int, b: int) -> int:\n",
    "    if not isinstance(a, int) or not isinstance(b, int):\n",
    "        return \"Не працюю з такими типами даних.\"\n",
    "    elif b == 0:\n",
    "        return \"Не можу виконати ділення на 0.\"\n",
    "    else:\n",
    "        print(\"Результат роботи функції:\", a / b)"
   ]
  },
  {
   "cell_type": "code",
   "execution_count": 229,
   "metadata": {},
   "outputs": [
    {
     "name": "stdout",
     "output_type": "stream",
     "text": [
      "Результат роботи функції: 2.0\n",
      "None\n",
      "Не можу виконати ділення на 0.\n",
      "Результат роботи функції: 11.2\n",
      "None\n",
      "Не можу виконати ділення на 0.\n",
      "Не працюю з такими типами даних.\n"
     ]
    }
   ],
   "source": [
    "my_pairs = [(12, 6), (20, 0), (112, 10), (99, 0), (11, 1.10)]\n",
    "for a, b in my_pairs:\n",
    "    result = int_division(a, b)\n",
    "    print(result)"
   ]
  },
  {
   "cell_type": "code",
   "execution_count": null,
   "metadata": {},
   "outputs": [],
   "source": [
    "#3 Відповідь на питання:\n",
    " Функція повернула None там, де немає return. Але, якщо я у функції print заміню на return, то функція не будет повертати None."
   ]
  }
 ],
 "metadata": {
  "colab": {
   "provenance": [
    {
     "file_id": "1B3PcHmfP_ejANxnlsn6l3deW9BxWTvm0",
     "timestamp": 1724440010094
    }
   ]
  },
  "kernelspec": {
   "display_name": "Python 3 (ipykernel)",
   "language": "python",
   "name": "python3"
  },
  "language_info": {
   "codemirror_mode": {
    "name": "ipython",
    "version": 3
   },
   "file_extension": ".py",
   "mimetype": "text/x-python",
   "name": "python",
   "nbconvert_exporter": "python",
   "pygments_lexer": "ipython3",
   "version": "3.12.4"
  }
 },
 "nbformat": 4,
 "nbformat_minor": 4
}
