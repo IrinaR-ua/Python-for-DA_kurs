{
 "cells": [
  {
   "cell_type": "markdown",
   "id": "1561554f",
   "metadata": {
    "id": "1561554f"
   },
   "source": [
    "# Домашнє завдання до теми \"Модулі. Винятки (Exceptions)\"\n",
    "\n"
   ]
  },
  {
   "cell_type": "markdown",
   "id": "c094769a",
   "metadata": {
    "ExecuteTime": {
     "end_time": "2022-10-22T04:15:21.939494Z",
     "start_time": "2022-10-22T04:15:21.933981Z"
    },
    "id": "c094769a"
   },
   "source": [
    "Почнемо з закріплення матеріалу щодо фукнцій і віпрацювання роботи з модулем `random`.\n",
    "\n",
    "1. Напишіть функцію `get_random_int_list`, яка приймає один аргумент - кількість чисел `n`, і повертає список, що містить `n` випадкових цілих чисел з діапазону від 0 до 100 включно. Для генерації випадкових чисел використовуйте модуль `random`.\n",
    "\n",
    "  **Вимоги до реалізації:**\n",
    "\n",
    "  - Функція повинна приймати один аргумент `n` - кількість чисел у списку.\n",
    "  - Для генерації випадкових чисел використовуйте функцію `random.randint(0, 100)`.\n",
    "  - Повернутий список має містити рівно `n` випадкових чисел.\n",
    "\n",
    "  **Приклади виклику функції та очікувані результати:**\n",
    "\n",
    "  1. **Приклад 1:**\n",
    "    - Виклик функції: `get_random_int_list(5)`\n",
    "    - Очікуваний результат: Список з 5 випадковими числами, наприклад, `[23, 77, 45, 8, 91]`. Кожен запуск може повертати різні числа через випадковість.\n",
    "\n",
    "  2. **Приклад 2:**\n",
    "    - Виклик функції: `get_random_int_list(3)`\n",
    "    - Очікуваний результат: Список з 3 випадковими числами, наприклад, `[64, 20, 37]`.\n",
    "\n",
    "  3. **Приклад 3:**\n",
    "    - Виклик функції: `get_random_int_list(0)`\n",
    "    - Очікуваний результат: Порожній список `[]`, оскільки було запитано 0 чисел.\n",
    "\n",
    "Продемонструйте результати робити функції запустивши код нижче."
   ]
  },
  {
   "cell_type": "code",
   "execution_count": 50,
   "id": "m5hUhAQaqP78",
   "metadata": {
    "id": "m5hUhAQaqP78"
   },
   "outputs": [
    {
     "name": "stdout",
     "output_type": "stream",
     "text": [
      "None\n"
     ]
    }
   ],
   "source": [
    "import random\n",
    "\n",
    "def get_random_int_list(n):\n",
    "    for numbers in range(n):\n",
    "        print(random.randint(0, 100))\n",
    "result = get_random_int_list(n)\n",
    "print(result)"
   ]
  },
  {
   "cell_type": "code",
   "execution_count": 46,
   "id": "236cd7d1-adf2-4544-989b-b396d0dd3292",
   "metadata": {},
   "outputs": [
    {
     "name": "stdout",
     "output_type": "stream",
     "text": [
      "31\n",
      "82\n",
      "90\n",
      "26\n",
      "100\n",
      "None\n"
     ]
    }
   ],
   "source": [
    "n = 5\n",
    "result = get_random_int_list(n)\n",
    "print(result)"
   ]
  },
  {
   "cell_type": "code",
   "execution_count": 47,
   "id": "5f562190-befa-4f71-a71b-b73453bbbcb3",
   "metadata": {},
   "outputs": [
    {
     "name": "stdout",
     "output_type": "stream",
     "text": [
      "6\n",
      "81\n",
      "36\n",
      "None\n"
     ]
    }
   ],
   "source": [
    "n = 3\n",
    "result = get_random_int_list(n)\n",
    "print(result)"
   ]
  },
  {
   "cell_type": "code",
   "execution_count": 54,
   "id": "bfad382e-a550-414f-ab25-ea889c9d90ab",
   "metadata": {},
   "outputs": [
    {
     "name": "stdout",
     "output_type": "stream",
     "text": [
      "None\n"
     ]
    }
   ],
   "source": [
    "n = 0\n",
    "result = get_random_int_list(n)\n",
    "print(result)"
   ]
  },
  {
   "cell_type": "code",
   "execution_count": 55,
   "id": "XV-QkjcbqZNv",
   "metadata": {
    "id": "XV-QkjcbqZNv"
   },
   "outputs": [
    {
     "name": "stdout",
     "output_type": "stream",
     "text": [
      "84\n",
      "8\n",
      "13\n",
      "79\n",
      "25\n",
      "None\n",
      "49\n",
      "63\n",
      "47\n",
      "None\n",
      "None\n",
      "86\n",
      "67\n",
      "73\n",
      "3\n",
      "87\n",
      "10\n",
      "36\n",
      "72\n",
      "None\n"
     ]
    }
   ],
   "source": [
    "for number in [5, 3, 0, 8]:\n",
    "  print(get_random_int_list(number))"
   ]
  },
  {
   "cell_type": "markdown",
   "id": "iBHEcmV7R34X",
   "metadata": {
    "id": "iBHEcmV7R34X"
   },
   "source": [
    "2. **Конвертер стрічки в число**\n",
    "\n",
    "  **Опис завдання:**\n",
    "\n",
    "  Створіть функцію `string_to_int`, яка приймає рядок і намагається перетворити його в ціле число. Якщо рядок не можна перетворити на ціле число, функція повинна повертати `None` і генерувати виключення `\"Некоректне введення\"`.\n",
    "\n",
    "  **Приклади виклику функції:**\n",
    "\n",
    "  - `string_to_int(\"123\")` повинно повернути `123`.\n",
    "  - `string_to_int(\"abc\")` повинно повернути `None` і вивести виключення `\"Некоректне введення\"`."
   ]
  },
  {
   "cell_type": "code",
   "execution_count": 101,
   "id": "5UT2YNrISdLR",
   "metadata": {
    "id": "5UT2YNrISdLR"
   },
   "outputs": [],
   "source": [
    "def string_to_int(test_inputs):\n",
    "    try:\n",
    "        return int(test_inputs)\n",
    "    except ValueError:\n",
    "        print(\"Некоректне рішення\")\n",
    "        return None"
   ]
  },
  {
   "cell_type": "code",
   "execution_count": 102,
   "id": "ffff3749-7876-44e6-a675-25f4309a6fa6",
   "metadata": {},
   "outputs": [
    {
     "name": "stdout",
     "output_type": "stream",
     "text": [
      "123\n"
     ]
    }
   ],
   "source": [
    "print(string_to_int(\"123\"))"
   ]
  },
  {
   "cell_type": "code",
   "execution_count": 103,
   "id": "ab970bc1-fc9a-4402-9968-b32cd39be020",
   "metadata": {},
   "outputs": [
    {
     "name": "stdout",
     "output_type": "stream",
     "text": [
      "Некоректне рішення\n",
      "None\n"
     ]
    }
   ],
   "source": [
    "print(string_to_int(\"abc\"))"
   ]
  },
  {
   "cell_type": "markdown",
   "id": "UbIaPiOHSgE7",
   "metadata": {
    "id": "UbIaPiOHSgE7"
   },
   "source": [
    "Продемонструйте результати робити функції запустивши код нижче."
   ]
  },
  {
   "cell_type": "code",
   "execution_count": 100,
   "id": "AL7sINtwSgcs",
   "metadata": {
    "id": "AL7sINtwSgcs"
   },
   "outputs": [
    {
     "data": {
      "text/plain": [
       "{'123': 123, 'abc': None, '456.78': None, '100': 100}"
      ]
     },
     "execution_count": 100,
     "metadata": {},
     "output_type": "execute_result"
    }
   ],
   "source": [
    "test_inputs = [\"123\", \"abc\", \"456.78\", \"100\"]\n",
    "results = {input_value: string_to_int(input_value) for input_value in test_inputs}\n",
    "results\n"
   ]
  },
  {
   "cell_type": "markdown",
   "id": "KkzLp29pQ1-U",
   "metadata": {
    "id": "KkzLp29pQ1-U"
   },
   "source": [
    "3. **Контроль введення користувача**\n",
    "\n",
    "  Створіть функцію `check_age`, яка приймає на вхід вік користувача у форматі рядок і перевіряє, чи є користувач повнолітнім (18 років і старше). Якщо введене значення не може бути перетворено на ціле число, функція повинна підіймати виняток `\"Некоректне введення. Будь ласка, введіть числове значення.\"` і повертати `False`. Якщо вік користувача менше 18, вивести повідомлення `\"Ви не повнолітній!\"` і також повернути `False`. У випадку, коли вік 18 років або більше, вивести повідомлення `\"Ви повнолітній.\"` і повернути `True`.\n",
    "\n",
    "  **Приклад роботи програми:**\n",
    "\n",
    "  1. Користувач вводить `\"двадцять\"`: програма створює виняток `\"Некоректне введення. Будь ласка, введіть числове значення.\"` і повертає `False`.\n",
    "  2. Користувач вводить `\"17\"`: програма виводить `\"Ви не повнолітній!\"` і повертає `False`.\n",
    "  3. Користувач вводить `\"18\"`: програма виводить `\"Ви повнолітній.\"` і повертає `True`.\n",
    "\n",
    "\n"
   ]
  },
  {
   "cell_type": "code",
   "execution_count": 105,
   "id": "K3PTENm-Ae3-",
   "metadata": {
    "id": "K3PTENm-Ae3-"
   },
   "outputs": [],
   "source": [
    "def check_age(customer_age):\n",
    "    try:\n",
    "        if int(customer_age) < 18:\n",
    "            print (\"Ви не повнолітній!\")\n",
    "            return False\n",
    "        elif int(customer_age) >= 18:\n",
    "            print (\"Ви повнолітній!\")\n",
    "            return True\n",
    "    except ValueError:\n",
    "        print(\"Некоректне введення. Будь ласка, введіть числове значення.\")\n",
    "        return False"
   ]
  },
  {
   "cell_type": "code",
   "execution_count": 107,
   "id": "d58f9805-8cbf-4a0a-ac9c-f616f6a95646",
   "metadata": {},
   "outputs": [
    {
     "name": "stdout",
     "output_type": "stream",
     "text": [
      "Некоректне введення. Будь ласка, введіть числове значення.\n",
      "False\n"
     ]
    }
   ],
   "source": [
    "print(check_age(\"двадцять\"))"
   ]
  },
  {
   "cell_type": "code",
   "execution_count": 108,
   "id": "b93f8fe8-a11e-45f5-9677-ab18e75634dc",
   "metadata": {},
   "outputs": [
    {
     "name": "stdout",
     "output_type": "stream",
     "text": [
      "Ви не повнолітній!\n",
      "False\n"
     ]
    }
   ],
   "source": [
    "print(check_age(\"17\"))"
   ]
  },
  {
   "cell_type": "code",
   "execution_count": 109,
   "id": "c7610026-7045-406b-adc8-5a65db593f41",
   "metadata": {},
   "outputs": [
    {
     "name": "stdout",
     "output_type": "stream",
     "text": [
      "Ви повнолітній!\n",
      "True\n"
     ]
    }
   ],
   "source": [
    "print(check_age(\"18\"))"
   ]
  },
  {
   "cell_type": "markdown",
   "id": "huphMh7YR2GJ",
   "metadata": {
    "id": "huphMh7YR2GJ"
   },
   "source": [
    "Продемонструйте результати робити функції запустивши код нижче."
   ]
  },
  {
   "cell_type": "code",
   "execution_count": 110,
   "id": "YuEQrntVRgSE",
   "metadata": {
    "id": "YuEQrntVRgSE"
   },
   "outputs": [
    {
     "name": "stdout",
     "output_type": "stream",
     "text": [
      "Некоректне введення. Будь ласка, введіть числове значення.\n",
      "Ви не повнолітній!\n",
      "Ви повнолітній!\n"
     ]
    },
    {
     "data": {
      "text/plain": [
       "[False, False, True]"
      ]
     },
     "execution_count": 110,
     "metadata": {},
     "output_type": "execute_result"
    }
   ],
   "source": [
    "test_inputs = [\"двадцять\", \"17\", \"18\"]\n",
    "results = [check_age(input_value) for input_value in test_inputs]\n",
    "results"
   ]
  },
  {
   "cell_type": "markdown",
   "id": "CQg-zIJGTqjw",
   "metadata": {
    "id": "CQg-zIJGTqjw"
   },
   "source": [
    "4. **Обчислення середнього з перевіркою:** Напишіть функцію `calculate_average`, яка приймає на вхід список чисел і обчислює середнє арифметичне значення цих чисел. Функція повинна перевіряти, що всі елементи списку є числами. Якщо серед елементів списку зустрічається елемент, який не є числом, функція повинна вивести повідомлення `\"Всі елементи повинні бути числами\"` і повернути `None`.\n",
    "\n",
    "**Приклади виклику функції:**\n",
    "\n",
    "- `calculate_average([1, 2, 3, 4, 5])` повинно повернути `3.0`.\n",
    "- `calculate_average([1, \"2\", 3])` повинно повернути `None` і вивести `\"Всі елементи повинні бути числами\"`.\n",
    "- `calculate_average([-1.1, \"ф\", 4])` повинно повернути `None` і вивести `\"Всі елементи повинні бути числами\"`."
   ]
  },
  {
   "cell_type": "code",
   "execution_count": 134,
   "id": "91VU_y5sUAKB",
   "metadata": {
    "id": "91VU_y5sUAKB"
   },
   "outputs": [],
   "source": [
    "import math\n",
    "\n",
    "def calculate_average(numbers):\n",
    "    try:\n",
    "        numbers_sum = sum(numbers)\n",
    "        numbers_count = len(numbers)\n",
    "        print(\"Середнє значення дорівнює\")\n",
    "        return numbers_sum / numbers_count\n",
    "    except TypeError:\n",
    "        print(\"Всі елементи повинні бути числами.\")\n",
    "        return None"
   ]
  },
  {
   "cell_type": "code",
   "execution_count": 135,
   "id": "de548b7e-a759-4790-8a6c-19981a791988",
   "metadata": {},
   "outputs": [
    {
     "name": "stdout",
     "output_type": "stream",
     "text": [
      "Середнє значення дорівнює\n",
      "3.0\n"
     ]
    }
   ],
   "source": [
    "print(calculate_average([1, 2, 3, 4, 5]))"
   ]
  },
  {
   "cell_type": "code",
   "execution_count": 136,
   "id": "2aa43d79-071b-47b8-906f-af644de9ddde",
   "metadata": {},
   "outputs": [
    {
     "name": "stdout",
     "output_type": "stream",
     "text": [
      "Всі елементи повинні бути числами.\n",
      "None\n"
     ]
    }
   ],
   "source": [
    "print(calculate_average([1, \"2\", 3]))"
   ]
  },
  {
   "cell_type": "code",
   "execution_count": 137,
   "id": "9aa10f11-9e35-4a9f-9df8-3d97588acc98",
   "metadata": {},
   "outputs": [
    {
     "name": "stdout",
     "output_type": "stream",
     "text": [
      "Всі елементи повинні бути числами.\n",
      "None\n"
     ]
    }
   ],
   "source": [
    "print(calculate_average([-1.1, \"ф\", 4]))"
   ]
  },
  {
   "cell_type": "markdown",
   "id": "ib-JWKKmUeF8",
   "metadata": {
    "id": "ib-JWKKmUeF8"
   },
   "source": [
    "Продемонструйте результати робити функції запустивши код нижче."
   ]
  },
  {
   "cell_type": "code",
   "execution_count": 138,
   "id": "axEmZx0rUNqT",
   "metadata": {
    "id": "axEmZx0rUNqT"
   },
   "outputs": [
    {
     "name": "stdout",
     "output_type": "stream",
     "text": [
      "Середнє значення дорівнює\n",
      "Всі елементи повинні бути числами.\n",
      "Середнє значення дорівнює\n",
      "Всі елементи повинні бути числами.\n"
     ]
    },
    {
     "data": {
      "text/plain": [
       "[3.0, None, 20.0, None]"
      ]
     },
     "execution_count": 138,
     "metadata": {},
     "output_type": "execute_result"
    }
   ],
   "source": [
    "test_data = [\n",
    "    [1, 2, 3, 4, 5],  # Коректні дані\n",
    "    [1, \"2\", 3],      # Некоректні дані\n",
    "    [10, 20, 30],     # Коректні дані\n",
    "    [-1.1, \"ф\", 4]    # Некоректні дані\n",
    "]\n",
    "\n",
    "results = [calculate_average(data) for data in test_data]\n",
    "results"
   ]
  },
  {
   "cell_type": "code",
   "execution_count": null,
   "id": "dff5e88e-a7f2-45dc-8870-0631e9abaa05",
   "metadata": {},
   "outputs": [],
   "source": []
  }
 ],
 "metadata": {
  "colab": {
   "provenance": [
    {
     "file_id": "1KeJGqXIwGy0nqwiDRSIihyyeCU_XB3ka",
     "timestamp": 1725189168062
    },
    {
     "file_id": "1AKszbIMBspg4gRF6AGqtiNr4gj-QVUbc",
     "timestamp": 1705840754569
    }
   ]
  },
  "kernelspec": {
   "display_name": "Python 3 (ipykernel)",
   "language": "python",
   "name": "python3"
  },
  "language_info": {
   "codemirror_mode": {
    "name": "ipython",
    "version": 3
   },
   "file_extension": ".py",
   "mimetype": "text/x-python",
   "name": "python",
   "nbconvert_exporter": "python",
   "pygments_lexer": "ipython3",
   "version": "3.12.4"
  },
  "toc": {
   "base_numbering": 1,
   "nav_menu": {},
   "number_sections": true,
   "sideBar": true,
   "skip_h1_title": false,
   "title_cell": "Table of Contents",
   "title_sidebar": "Contents",
   "toc_cell": false,
   "toc_position": {},
   "toc_section_display": true,
   "toc_window_display": false
  }
 },
 "nbformat": 4,
 "nbformat_minor": 5
}
